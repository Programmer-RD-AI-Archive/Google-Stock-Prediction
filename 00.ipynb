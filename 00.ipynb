{
 "cells": [
  {
   "cell_type": "code",
   "execution_count": 1,
   "id": "5d0f9a83-2cf6-4c6c-a8dd-684f06d99b90",
   "metadata": {},
   "outputs": [
    {
     "data": {
      "text/plain": [
       "<torch._C.Generator at 0x7f9531bf67b0>"
      ]
     },
     "execution_count": 1,
     "metadata": {},
     "output_type": "execute_result"
    }
   ],
   "source": [
    "import random\n",
    "import seaborn as sns\n",
    "import pandas as pd\n",
    "import numpy as np\n",
    "import matplotlib.pyplot as plt\n",
    "import sklearn\n",
    "import torch,torchvision\n",
    "from torch.nn import *\n",
    "from tqdm import tqdm\n",
    "import cv2\n",
    "from torch.optim import *\n",
    "# Preproccessing\n",
    "from sklearn.preprocessing import (\n",
    "    StandardScaler,\n",
    "    RobustScaler,\n",
    "    MinMaxScaler,\n",
    "    MaxAbsScaler,\n",
    "    OneHotEncoder,\n",
    "    Normalizer,\n",
    "    Binarizer\n",
    ")\n",
    "# Decomposition\n",
    "from sklearn.decomposition import PCA\n",
    "from sklearn.decomposition import KernelPCA\n",
    "# Feature Selection\n",
    "from sklearn.feature_selection import VarianceThreshold\n",
    "from sklearn.feature_selection import SelectKBest\n",
    "from sklearn.feature_selection import RFECV\n",
    "from sklearn.feature_selection import SelectFromModel\n",
    "# Model Eval\n",
    "from sklearn.compose import make_column_transformer\n",
    "from sklearn.model_selection import GridSearchCV\n",
    "from sklearn.model_selection import cross_val_score,train_test_split\n",
    "from sklearn.metrics import mean_absolute_error,mean_squared_error\n",
    "# Other\n",
    "import pickle\n",
    "import wandb\n",
    "\n",
    "PROJECT_NAME = 'Google-Stock-Prediction'\n",
    "device = 'cuda:0'\n",
    "np.random.seed(21)\n",
    "random.seed(21)\n",
    "torch.manual_seed(21)"
   ]
  },
  {
   "cell_type": "code",
   "execution_count": 2,
   "id": "9787cfc6-9d34-4a79-8802-a0a37d4e3283",
   "metadata": {},
   "outputs": [],
   "source": [
    "data = pd.read_csv('./data.csv')"
   ]
  },
  {
   "cell_type": "code",
   "execution_count": 3,
   "id": "97e9598b-d757-422a-9a8b-0ebd676ea6e9",
   "metadata": {},
   "outputs": [],
   "source": [
    "data = data['high']"
   ]
  },
  {
   "cell_type": "code",
   "execution_count": 4,
   "id": "f488fd1f-a64d-4810-94dd-78f81a7563da",
   "metadata": {},
   "outputs": [],
   "source": [
    "data.to_csv('./Cleaned-Data.csv')\n",
    "data.to_json('./cleaned-data.json')"
   ]
  },
  {
   "cell_type": "code",
   "execution_count": 5,
   "id": "c68e4ae4-49de-42b6-ab83-03bdf2376bf6",
   "metadata": {},
   "outputs": [],
   "source": [
    "data = data.tolist()"
   ]
  },
  {
   "cell_type": "code",
   "execution_count": 6,
   "id": "7d8839cf-3500-4704-96d6-e4af51ca3f2f",
   "metadata": {},
   "outputs": [],
   "source": [
    "data = torch.from_numpy(np.array(data)).view(1,-1).to(device).float()"
   ]
  },
  {
   "cell_type": "code",
   "execution_count": 7,
   "id": "acbed08b-2d5b-4c93-b269-7775c4e1513b",
   "metadata": {},
   "outputs": [],
   "source": [
    "data_input = data[:1,:-1].to(device).float()\n",
    "data_target = data[:1,1:].to(device).float()"
   ]
  },
  {
   "cell_type": "code",
   "execution_count": 8,
   "id": "f82377c4-77b9-4e08-9b77-a30e4a5696af",
   "metadata": {},
   "outputs": [],
   "source": [
    "class Model(Module):\n",
    "    def __init__(self):\n",
    "        super().__init__()\n",
    "        self.hidden = 512\n",
    "        self.lstm1 = LSTMCell(1,self.hidden).to(device)\n",
    "        self.lstm2 = LSTMCell(self.hidden,self.hidden).to(device)\n",
    "        self.linear = Linear(self.hidden,1).to(device)\n",
    "    \n",
    "    def forward(self,X,future=0):\n",
    "        preds = []\n",
    "        batch_size = X.size(0)\n",
    "        h_t1 = torch.zeros(batch_size,self.hidden).to(device).float()\n",
    "        c_t1 = torch.zeros(batch_size,self.hidden).to(device).float()\n",
    "        h_t2 = torch.zeros(batch_size,self.hidden).to(device).float()\n",
    "        c_t2 = torch.zeros(batch_size,self.hidden).to(device).float()\n",
    "        for X_batch in X.split(1,dim=1):\n",
    "            X_batch = X_batch.to(device)\n",
    "            h_t1,c_t1 = self.lstm1(X_batch,(h_t1,c_t1))\n",
    "            h_t1 = h_t1.to(device)\n",
    "            c_t1 = c_t1.to(device)\n",
    "            h_t2,c_t2 = self.lstm2(h_t1,(h_t2,c_t2))\n",
    "            h_t2 = h_t2.to(device)\n",
    "            c_t2 = c_t2.to(device)\n",
    "            pred = self.linear(h_t2)\n",
    "            preds.append(pred)\n",
    "        for _ in range(future):\n",
    "            X_batch = X_batch.to(device)\n",
    "            h_t1,c_t1 = self.lstm1(X_batch,(h_t1,c_t1))\n",
    "            h_t1 = h_t1.to(device)\n",
    "            c_t1 = c_t1.to(device)\n",
    "            h_t2,c_t2 = self.lstm2(h_t1,(h_t2,c_t2))\n",
    "            h_t2 = h_t2.to(device)\n",
    "            c_t2 = c_t2.to(device)\n",
    "            pred = self.linear(h_t2)\n",
    "            preds.append(pred)\n",
    "        preds = torch.cat(preds,dim=1)\n",
    "        return preds"
   ]
  },
  {
   "cell_type": "code",
   "execution_count": 9,
   "id": "629d79f4-5244-4a86-9266-699f58c15fee",
   "metadata": {},
   "outputs": [],
   "source": [
    "# model = Model().to(device)\n",
    "# criterion = MSELoss()\n",
    "# optimizer = Adam(model.parameters(),lr=0.001)\n",
    "# epochs = 250"
   ]
  },
  {
   "cell_type": "code",
   "execution_count": 10,
   "id": "299807f4-20e8-4882-8b0b-af7c8ae9119d",
   "metadata": {},
   "outputs": [],
   "source": [
    "# wandb.init(project=PROJECT_NAME,name='baseline')\n",
    "# for _ in tqdm(range(epochs)):\n",
    "#     def closure():\n",
    "#         optimizer.zero_grad()\n",
    "#         preds = model(data_input)\n",
    "#         loss = criterion(preds,data_target)\n",
    "#         loss.backward()\n",
    "#         wandb.log({\"Log\":loss.item()})\n",
    "#         return loss\n",
    "#     optimizer.step(closure)\n",
    "#     model.eval()\n",
    "#     with torch.no_grad():\n",
    "#         future = 100\n",
    "#         preds = model(data_input,future)\n",
    "#         loss = criterion(preds[:,:-future],data_target)\n",
    "#         wandb.log({'Val Loss':loss.item()})\n",
    "#         n = data_input.shape[1]\n",
    "#         preds = preds[0].view(-1).cpu().detach().numpy()\n",
    "#         plt.figure(figsize=(12,6))\n",
    "#         plt.plot(np.arange(n),data_target.view(-1).cpu().detach().numpy())\n",
    "#         plt.plot(np.arange(n,n+future),preds[n:])\n",
    "#         plt.savefig('./img.png')\n",
    "#         plt.close()\n",
    "#         wandb.log({'Img':wandb.Image(cv2.imread('./img.png'))})\n",
    "#     model.train()\n",
    "# wandb.finish()"
   ]
  },
  {
   "cell_type": "code",
   "execution_count": 11,
   "id": "c8385d68-594b-43f6-9166-32b2694b4c8f",
   "metadata": {},
   "outputs": [],
   "source": [
    "# torch.save(data,'./data.pt')\n",
    "# torch.save(data,'./data.pth')\n",
    "# torch.save(data_input,'data_input.pt')\n",
    "# torch.save(data_input,'data_input.pth')\n",
    "# torch.save(data_target,'data_target.pt')\n",
    "# torch.save(data_target,'data_target.pth')"
   ]
  },
  {
   "cell_type": "code",
   "execution_count": 12,
   "id": "dfa9c72e-dfcd-4ce2-8432-4667a7d3c5fd",
   "metadata": {},
   "outputs": [],
   "source": [
    "# torch.save(model,'custom-model.pt')\n",
    "# torch.save(model,'custom-model.pth')\n",
    "# torch.save(model.state_dict(),'custom-model-sd.pt')\n",
    "# torch.save(model.state_dict(),'custom-model-sd.pth')\n",
    "# torch.save(model,'model.pt')\n",
    "# torch.save(model,'model.pth')\n",
    "# torch.save(model.state_dict(),'model-sd.pt')\n",
    "# torch.save(model.state_dict(),'model-sd.pth')"
   ]
  },
  {
   "cell_type": "code",
   "execution_count": 13,
   "id": "4cd64a2a-7a0f-47da-8ba1-6b0f7d0414e8",
   "metadata": {},
   "outputs": [],
   "source": [
    "# torch.save(model,'custom-model.pt')\n",
    "# torch.save(model,'custom-model.pth')\n",
    "# torch.save(model.state_dict(),'custom-model-sd.pt')\n",
    "# torch.save(model.state_dict(),'custom-model-sd.pth')\n",
    "# torch.save(model,'model.pt')\n",
    "# torch.save(model,'model.pth')\n",
    "# torch.save(model.state_dict(),'model-sd.pt')\n",
    "# torch.save(model.state_dict(),'model-sd.pth')"
   ]
  },
  {
   "cell_type": "code",
   "execution_count": null,
   "id": "0c8f14b5-b23c-419d-bb03-57a13e34b5be",
   "metadata": {},
   "outputs": [],
   "source": []
  }
 ],
 "metadata": {
  "kernelspec": {
   "display_name": "Python 3.7.3 64-bit ('base': conda)",
   "language": "python",
   "name": "python373jvsc74a57bd0210f9608a45c0278a93c9e0b10db32a427986ab48cfc0d20c139811eb78c4bbc"
  },
  "language_info": {
   "codemirror_mode": {
    "name": "ipython",
    "version": 3
   },
   "file_extension": ".py",
   "mimetype": "text/x-python",
   "name": "python",
   "nbconvert_exporter": "python",
   "pygments_lexer": "ipython3",
   "version": "3.7.11"
  }
 },
 "nbformat": 4,
 "nbformat_minor": 5
}
